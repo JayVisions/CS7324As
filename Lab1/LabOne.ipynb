{
 "cells": [
  {
   "cell_type": "markdown",
   "metadata": {},
   "source": [
    "# Lab One Exploring the data\n",
    "## Team member\n",
    "\n",
    "## Data introduction \n",
    "Data source: https://www.kaggle.com/competitions/playground-series-s4e2/overview\n",
    "Data file name:  Lab1/data/train.csv\n",
    "\n"
   ]
  }
 ],
 "metadata": {
  "language_info": {
   "name": "python"
  }
 },
 "nbformat": 4,
 "nbformat_minor": 2
}
