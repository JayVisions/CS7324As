{
 "cells": [
  {
   "cell_type": "markdown",
   "metadata": {},
   "source": [
    "# Lab One Exploring the data\n",
    "## Team member\n",
    "\n",
    "## Data introduction \n",
    "Data source: https://www.kaggle.com/datasets/aravindpcoder/obesity-or-cvd-risk-classifyregressorcluster\n",
    "Data file name:  Lab1/data/ObesityDataSet.csv\n",
    "\n",
    "17 colums total, 2111 rows, `NObeyesdad` is the categorical target\n",
    "\n",
    "## Environment\n",
    "python 3.11.5, conda 23.9.0 ,numpy-1.26.3 pandas-2.2.0 pytz-2023.4 tzdata-2023.4, pip-23.3.2\n",
    "\n",
    "## Something more\n",
    "Kaggal generate new dataset form the original one by the Deep learning about 20758 rows: https://www.kaggle.com/competitions/playground-series-s4e2/data and can using it do more. \n",
    "data/train.csv\n",
    "\n"
   ]
  },
  {
   "cell_type": "code",
   "execution_count": null,
   "metadata": {},
   "outputs": [],
   "source": [
    "# read the data \n",
    "import pandas as pd\n",
    "df = pd.read_csv('data/ObesityDataSet.csv') # read in the csv file\n",
    "print(df.info())\n",
    "       "
   ]
  },
  {
   "cell_type": "markdown",
   "metadata": {},
   "source": [
    "## Business Understanding\n",
    "### Overview of the data\n",
    "The data was gathered through an online platform via a survey where respondents remained anonymous. Its objective is to gauge obesity levels among individuals from Mexico, Peru, and Colombia, spanning ages 14 to 65. This dataset will be utilized to train a model using the 'train.csv' file and subsequently applied for predictions using the 'test.csv' file. Due to the nature of its collection method, there may be inaccuracies present; nevertheless, it serves as valuable material for training and prediction model development.\n",
    "#### Purpose of the data\n",
    "The data contain 17 attributes focusing on the relative fields about the obesity \n",
    "\n",
    "#### Eatting habits related attributes:\n",
    "Frequent consumption of high caloric food (FAVC), \n",
    "Frequency of consumption of vegetables (FCVC), \n",
    "Number of main meals (NCP), \n",
    "Consumption of food between meals (CAEC), \n",
    "Consumption of water daily (CH20), and Consumption of alcohol (CALC). \n",
    "#### The attributes related with the physical condition are: \n",
    "Calories consumption monitoring (SCC),\n",
    "Physical activity frequency (FAF),\n",
    "Time using technology devices (TUE), \n",
    "Transportation used (MTRANS)\n",
    "#### NObesity Value:\n",
    "•Underweight Less than 18.5\n",
    "•Normal 18.5 to 24.9\n",
    "•Overweight 25.0 to 29.9\n",
    "•Obesity I 30.0 to 34.9\n",
    "•Obesity II 35.0 to 39.9\n",
    "•Obesity III Higher than 40"
   ]
  }
 ],
 "metadata": {
  "kernelspec": {
   "display_name": "base",
   "language": "python",
   "name": "python3"
  },
  "language_info": {
   "codemirror_mode": {
    "name": "ipython",
    "version": 3
   },
   "file_extension": ".py",
   "mimetype": "text/x-python",
   "name": "python",
   "nbconvert_exporter": "python",
   "pygments_lexer": "ipython3",
   "version": "3.11.5"
  }
 },
 "nbformat": 4,
 "nbformat_minor": 2
}
